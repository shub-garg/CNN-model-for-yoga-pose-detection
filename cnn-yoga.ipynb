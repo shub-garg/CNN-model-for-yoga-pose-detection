{
 "cells": [
  {
   "cell_type": "code",
   "execution_count": 48,
   "id": "884e8366-ba54-4827-9109-fd772e40f3b2",
   "metadata": {},
   "outputs": [],
   "source": [
    "import tensorflow as tf\n",
    "from tensorflow.keras import datasets, layers, models\n",
    "import matplotlib.pyplot as plt\n",
    "import numpy as np"
   ]
  },
  {
   "cell_type": "code",
   "execution_count": 49,
   "id": "fe50cce1-5ac5-4bda-bb86-72941ff3efea",
   "metadata": {},
   "outputs": [],
   "source": [
    "import numpy as np # linear algebra\n",
    "import pandas as pd # data processing, CSV file I/O (e.g. pd.read_csv)\n",
    "import os\n",
    "import matplotlib.pyplot as plt\n",
    "import seaborn as sns\n",
    "import tensorflow as tf\n",
    "import tensorflow.keras\n",
    "from PIL import Image\n",
    "from tensorflow.keras.preprocessing import image\n",
    "from tensorflow.keras.models import Sequential\n",
    "from tensorflow.keras.layers import Conv2D, MaxPool2D, Flatten,Dense,Dropout,BatchNormalization\n",
    "from tensorflow.keras.preprocessing.image import ImageDataGenerator\n",
    "import cv2\n",
    "from tensorflow.keras.layers import Input, Lambda, Dense, Flatten\n",
    "from tensorflow.keras.applications import VGG16, InceptionResNetV2\n",
    "from tensorflow.keras import regularizers\n",
    "from tensorflow.keras.optimizers import Adam,RMSprop,SGD,Adamax"
   ]
  },
  {
   "cell_type": "code",
   "execution_count": 50,
   "id": "cdff3d7f",
   "metadata": {},
   "outputs": [],
   "source": [
    "train_dir = 'C:/Users/shubh/OneDrive/Desktop/DATASET/TRAIN' #directory with training images\n",
    "test_dir = 'C:/Users/shubh/OneDrive/Desktop/DATASET/TEST' #directory with testing images"
   ]
  },
  {
   "cell_type": "code",
   "execution_count": 51,
   "id": "4894e43d",
   "metadata": {},
   "outputs": [],
   "source": [
    "train_datagen = ImageDataGenerator(width_shift_range= 0.1,\n",
    "                                  horizontal_flip = True,\n",
    "                                  rescale = 1./255,\n",
    "                                  validation_split = 0.2)\n",
    "test_datagen = ImageDataGenerator(rescale = 1./255,\n",
    "                                 validation_split = 0.2)"
   ]
  },
  {
   "cell_type": "code",
   "execution_count": 52,
   "id": "a9ce92ca",
   "metadata": {},
   "outputs": [
    {
     "name": "stdout",
     "output_type": "stream",
     "text": [
      "Found 739 images belonging to 5 classes.\n",
      "Found 88 images belonging to 5 classes.\n"
     ]
    }
   ],
   "source": [
    "train_generator =  train_datagen.flow_from_directory(directory = train_dir,\n",
    "                                                    target_size = (75,75),\n",
    "                                                    color_mode = 'rgb',\n",
    "                                                    class_mode = 'categorical',\n",
    "                                                    batch_size = 16,\n",
    "                                                    subset = 'training')\n",
    "validation_generator  = test_datagen.flow_from_directory(directory = test_dir,\n",
    "                                                  target_size = (75,75),\n",
    "                                                  color_mode = 'rgb',\n",
    "                                                  class_mode = 'categorical',\n",
    "                                                  subset = 'validation')"
   ]
  },
  {
   "cell_type": "code",
   "execution_count": 53,
   "id": "4390549a",
   "metadata": {},
   "outputs": [],
   "source": [
    "model = tf.keras.models.Sequential([\n",
    "    tf.keras.layers.Conv2D(64, (3,3), activation='relu',padding = 'Same', input_shape=(75, 75, 3)),\n",
    "    tf.keras.layers.MaxPooling2D(2, 2),\n",
    "    tf.keras.layers.Dropout(0.25),\n",
    "    #tf.keras.layers.Conv2D(128, (3,3), activation='relu',padding = 'Same'),\n",
    "    #tf.keras.layers.MaxPooling2D(2,2),\n",
    "    #tf.keras.layers.Dropout(0.25),\n",
    "    #tf.keras.layers.Conv2D(128, (3,3), activation='relu',padding = 'Same'),\n",
    "    #tf.keras.layers.MaxPooling2D(2,2),\n",
    "    #tf.keras.layers.Dropout(0.25),\n",
    "    tf.keras.layers.Conv2D(128, (3,3), activation='relu',padding = 'Same'),\n",
    "    tf.keras.layers.MaxPooling2D(2,2),\n",
    "    tf.keras.layers.Dropout(0.25),\n",
    "    tf.keras.layers.Conv2D(256, (3,3), activation='relu',padding = 'Same'),\n",
    "    tf.keras.layers.MaxPooling2D(2,2),\n",
    "    tf.keras.layers.Dropout(0.25),\n",
    "    tf.keras.layers.Flatten(),\n",
    "    tf.keras.layers.Dense(1024, activation='relu'),\n",
    "    tf.keras.layers.Dropout(0.5),\n",
    "    tf.keras.layers.Dense(5, activation='softmax')\n",
    "])"
   ]
  },
  {
   "cell_type": "code",
   "execution_count": 54,
   "id": "9730f1be",
   "metadata": {},
   "outputs": [],
   "source": [
    "optimizer = Adam(learning_rate=0.001)\n",
    "model.compile(loss='categorical_crossentropy',\n",
    "              optimizer = optimizer,\n",
    "              metrics=['accuracy'])\n",
    "epochs = 50  \n",
    "batch_size = 16"
   ]
  },
  {
   "cell_type": "code",
   "execution_count": 55,
   "id": "902dda58",
   "metadata": {},
   "outputs": [
    {
     "name": "stdout",
     "output_type": "stream",
     "text": [
      "Model: \"sequential_7\"\n",
      "_________________________________________________________________\n",
      "Layer (type)                 Output Shape              Param #   \n",
      "=================================================================\n",
      "conv2d_21 (Conv2D)           (None, 75, 75, 64)        1792      \n",
      "_________________________________________________________________\n",
      "max_pooling2d_21 (MaxPooling (None, 37, 37, 64)        0         \n",
      "_________________________________________________________________\n",
      "dropout_28 (Dropout)         (None, 37, 37, 64)        0         \n",
      "_________________________________________________________________\n",
      "conv2d_22 (Conv2D)           (None, 37, 37, 128)       73856     \n",
      "_________________________________________________________________\n",
      "max_pooling2d_22 (MaxPooling (None, 18, 18, 128)       0         \n",
      "_________________________________________________________________\n",
      "dropout_29 (Dropout)         (None, 18, 18, 128)       0         \n",
      "_________________________________________________________________\n",
      "conv2d_23 (Conv2D)           (None, 18, 18, 256)       295168    \n",
      "_________________________________________________________________\n",
      "max_pooling2d_23 (MaxPooling (None, 9, 9, 256)         0         \n",
      "_________________________________________________________________\n",
      "dropout_30 (Dropout)         (None, 9, 9, 256)         0         \n",
      "_________________________________________________________________\n",
      "flatten_7 (Flatten)          (None, 20736)             0         \n",
      "_________________________________________________________________\n",
      "dense_14 (Dense)             (None, 1024)              21234688  \n",
      "_________________________________________________________________\n",
      "dropout_31 (Dropout)         (None, 1024)              0         \n",
      "_________________________________________________________________\n",
      "dense_15 (Dense)             (None, 5)                 5125      \n",
      "=================================================================\n",
      "Total params: 21,610,629\n",
      "Trainable params: 21,610,629\n",
      "Non-trainable params: 0\n",
      "_________________________________________________________________\n"
     ]
    }
   ],
   "source": [
    "model.summary()"
   ]
  },
  {
   "cell_type": "code",
   "execution_count": 56,
   "id": "650391ea",
   "metadata": {},
   "outputs": [],
   "source": [
    "from PIL import ImageFile\n",
    "ImageFile.LOAD_TRUNCATED_IMAGES = True"
   ]
  },
  {
   "cell_type": "code",
   "execution_count": 57,
   "id": "c9499884",
   "metadata": {
    "scrolled": true
   },
   "outputs": [],
   "source": [
    "# from tensorflow.keras.callbacks import ModelCheckpoint\n",
    "# path = \"C:/Users/shubh/OneDrive/Desktop/model2/weights-{epoch:02d}.hdf5\"\n",
    "# checkpoint = ModelCheckpoint(path, monitor='val_loss', verbose=0, save_best_only=False, save_weights_only=False, mode='auto', save_freq=1)\n",
    "# callback = [checkpoint]"
   ]
  },
  {
   "cell_type": "code",
   "execution_count": 58,
   "id": "27da5903",
   "metadata": {},
   "outputs": [
    {
     "name": "stdout",
     "output_type": "stream",
     "text": [
      "Epoch 1/50\n",
      "47/47 [==============================] - 27s 554ms/step - loss: 1.1443 - accuracy: 0.5372 - val_loss: 0.3332 - val_accuracy: 0.8864\n",
      "Epoch 2/50\n",
      "47/47 [==============================] - 25s 531ms/step - loss: 0.7007 - accuracy: 0.7605 - val_loss: 0.1379 - val_accuracy: 0.9545\n",
      "Epoch 3/50\n",
      "47/47 [==============================] - 25s 529ms/step - loss: 0.4949 - accuracy: 0.8241 - val_loss: 0.0756 - val_accuracy: 0.9886\n",
      "Epoch 4/50\n",
      "47/47 [==============================] - 25s 531ms/step - loss: 0.3833 - accuracy: 0.8620 - val_loss: 0.0811 - val_accuracy: 0.9773\n",
      "Epoch 5/50\n",
      "47/47 [==============================] - 25s 531ms/step - loss: 0.3246 - accuracy: 0.8917 - val_loss: 0.0955 - val_accuracy: 0.9545\n",
      "Epoch 6/50\n",
      "47/47 [==============================] - 25s 534ms/step - loss: 0.2621 - accuracy: 0.9202 - val_loss: 0.0391 - val_accuracy: 0.9886\n",
      "Epoch 7/50\n",
      "47/47 [==============================] - 25s 536ms/step - loss: 0.1952 - accuracy: 0.9364 - val_loss: 0.0475 - val_accuracy: 0.9773\n",
      "Epoch 8/50\n",
      "47/47 [==============================] - 25s 531ms/step - loss: 0.1867 - accuracy: 0.9378 - val_loss: 0.0134 - val_accuracy: 1.0000\n",
      "Epoch 9/50\n",
      "47/47 [==============================] - 25s 534ms/step - loss: 0.1611 - accuracy: 0.9567 - val_loss: 0.0190 - val_accuracy: 0.9886\n",
      "Epoch 10/50\n",
      "47/47 [==============================] - 25s 531ms/step - loss: 0.1267 - accuracy: 0.9526 - val_loss: 0.0644 - val_accuracy: 0.9545\n",
      "Epoch 11/50\n",
      "47/47 [==============================] - 25s 528ms/step - loss: 0.1494 - accuracy: 0.9459 - val_loss: 0.0062 - val_accuracy: 1.0000\n",
      "Epoch 12/50\n",
      "47/47 [==============================] - 26s 557ms/step - loss: 0.1452 - accuracy: 0.9391 - val_loss: 0.0128 - val_accuracy: 1.0000\n",
      "Epoch 13/50\n",
      "47/47 [==============================] - 26s 558ms/step - loss: 0.1239 - accuracy: 0.9648 - val_loss: 0.0288 - val_accuracy: 0.9886\n",
      "Epoch 14/50\n",
      "47/47 [==============================] - 26s 554ms/step - loss: 0.1266 - accuracy: 0.9581 - val_loss: 0.0228 - val_accuracy: 0.9886\n",
      "Epoch 15/50\n",
      "47/47 [==============================] - 25s 521ms/step - loss: 0.0829 - accuracy: 0.9756 - val_loss: 0.0317 - val_accuracy: 0.9886\n",
      "Epoch 16/50\n",
      "47/47 [==============================] - 25s 527ms/step - loss: 0.0810 - accuracy: 0.9743 - val_loss: 0.0186 - val_accuracy: 0.9886\n",
      "Epoch 17/50\n",
      "47/47 [==============================] - 25s 527ms/step - loss: 0.0692 - accuracy: 0.9811 - val_loss: 0.0886 - val_accuracy: 0.9773\n",
      "Epoch 18/50\n",
      "47/47 [==============================] - 25s 536ms/step - loss: 0.1454 - accuracy: 0.9553 - val_loss: 0.0408 - val_accuracy: 0.9773\n",
      "Epoch 19/50\n",
      "47/47 [==============================] - 25s 530ms/step - loss: 0.1208 - accuracy: 0.9567 - val_loss: 0.0587 - val_accuracy: 0.9773\n",
      "Epoch 20/50\n",
      "47/47 [==============================] - 25s 528ms/step - loss: 0.0606 - accuracy: 0.9783 - val_loss: 0.0016 - val_accuracy: 1.0000\n",
      "Epoch 21/50\n",
      "47/47 [==============================] - 25s 528ms/step - loss: 0.0950 - accuracy: 0.9756 - val_loss: 0.0032 - val_accuracy: 1.0000\n",
      "Epoch 22/50\n",
      "47/47 [==============================] - 25s 522ms/step - loss: 0.0645 - accuracy: 0.9838 - val_loss: 0.0020 - val_accuracy: 1.0000\n",
      "Epoch 23/50\n",
      "47/47 [==============================] - 26s 541ms/step - loss: 0.0574 - accuracy: 0.9838 - val_loss: 0.0016 - val_accuracy: 1.0000\n",
      "Epoch 24/50\n",
      "47/47 [==============================] - 25s 530ms/step - loss: 0.0705 - accuracy: 0.9878 - val_loss: 0.0023 - val_accuracy: 1.0000\n",
      "Epoch 25/50\n",
      "47/47 [==============================] - 25s 532ms/step - loss: 0.0500 - accuracy: 0.9838 - val_loss: 9.4621e-04 - val_accuracy: 1.0000\n",
      "Epoch 26/50\n",
      "47/47 [==============================] - 25s 535ms/step - loss: 0.0568 - accuracy: 0.9811 - val_loss: 0.0405 - val_accuracy: 0.9773\n",
      "Epoch 27/50\n",
      "47/47 [==============================] - 25s 534ms/step - loss: 0.0773 - accuracy: 0.9824 - val_loss: 0.0116 - val_accuracy: 0.9886\n",
      "Epoch 28/50\n",
      "47/47 [==============================] - 25s 527ms/step - loss: 0.0857 - accuracy: 0.9783 - val_loss: 0.0010 - val_accuracy: 1.0000\n",
      "Epoch 29/50\n",
      "47/47 [==============================] - 25s 525ms/step - loss: 0.0538 - accuracy: 0.9892 - val_loss: 5.9077e-04 - val_accuracy: 1.0000\n",
      "Epoch 30/50\n",
      "47/47 [==============================] - 25s 529ms/step - loss: 0.0304 - accuracy: 0.9878 - val_loss: 0.0049 - val_accuracy: 1.0000\n",
      "Epoch 31/50\n",
      "47/47 [==============================] - 25s 528ms/step - loss: 0.0401 - accuracy: 0.9905 - val_loss: 0.0042 - val_accuracy: 1.0000\n",
      "Epoch 32/50\n",
      "47/47 [==============================] - 25s 536ms/step - loss: 0.0581 - accuracy: 0.9851 - val_loss: 0.0316 - val_accuracy: 0.9886\n",
      "Epoch 33/50\n",
      "47/47 [==============================] - 25s 532ms/step - loss: 0.0837 - accuracy: 0.9783 - val_loss: 0.0056 - val_accuracy: 1.0000\n",
      "Epoch 34/50\n",
      "47/47 [==============================] - 25s 531ms/step - loss: 0.0519 - accuracy: 0.9892 - val_loss: 0.0084 - val_accuracy: 1.0000\n",
      "Epoch 35/50\n",
      "47/47 [==============================] - 25s 538ms/step - loss: 0.0279 - accuracy: 0.9905 - val_loss: 0.0030 - val_accuracy: 1.0000\n",
      "Epoch 36/50\n",
      "47/47 [==============================] - 25s 538ms/step - loss: 0.0566 - accuracy: 0.9851 - val_loss: 0.0130 - val_accuracy: 0.9886\n",
      "Epoch 37/50\n",
      "47/47 [==============================] - 25s 531ms/step - loss: 0.0345 - accuracy: 0.9919 - val_loss: 0.0105 - val_accuracy: 1.0000\n",
      "Epoch 38/50\n",
      "47/47 [==============================] - 25s 532ms/step - loss: 0.0372 - accuracy: 0.9878 - val_loss: 2.0992e-04 - val_accuracy: 1.0000\n",
      "Epoch 39/50\n",
      "47/47 [==============================] - 25s 532ms/step - loss: 0.0514 - accuracy: 0.9892 - val_loss: 9.0579e-04 - val_accuracy: 1.0000\n",
      "Epoch 40/50\n",
      "47/47 [==============================] - 25s 534ms/step - loss: 0.0448 - accuracy: 0.9865 - val_loss: 6.0337e-04 - val_accuracy: 1.0000\n",
      "Epoch 41/50\n",
      "47/47 [==============================] - 25s 530ms/step - loss: 0.0298 - accuracy: 0.9946 - val_loss: 0.0064 - val_accuracy: 1.0000\n",
      "Epoch 42/50\n",
      "47/47 [==============================] - 25s 530ms/step - loss: 0.0501 - accuracy: 0.9878 - val_loss: 1.8784e-04 - val_accuracy: 1.0000\n",
      "Epoch 43/50\n",
      "47/47 [==============================] - 26s 542ms/step - loss: 0.0426 - accuracy: 0.9892 - val_loss: 0.0020 - val_accuracy: 1.0000\n",
      "Epoch 44/50\n",
      "47/47 [==============================] - 26s 541ms/step - loss: 0.0587 - accuracy: 0.9892 - val_loss: 0.0136 - val_accuracy: 1.0000\n",
      "Epoch 45/50\n",
      "47/47 [==============================] - 25s 538ms/step - loss: 0.0574 - accuracy: 0.9797 - val_loss: 0.0232 - val_accuracy: 0.9886\n",
      "Epoch 46/50\n",
      "47/47 [==============================] - 28s 554ms/step - loss: 0.0235 - accuracy: 0.9959 - val_loss: 0.0717 - val_accuracy: 0.9886\n",
      "Epoch 47/50\n",
      "47/47 [==============================] - 26s 547ms/step - loss: 0.0377 - accuracy: 0.9892 - val_loss: 0.1092 - val_accuracy: 0.9773\n",
      "Epoch 48/50\n",
      "47/47 [==============================] - 25s 535ms/step - loss: 0.0485 - accuracy: 0.9905 - val_loss: 0.0011 - val_accuracy: 1.0000\n",
      "Epoch 49/50\n",
      "47/47 [==============================] - 25s 535ms/step - loss: 0.0424 - accuracy: 0.9892 - val_loss: 0.0036 - val_accuracy: 1.0000\n",
      "Epoch 50/50\n",
      "47/47 [==============================] - 26s 545ms/step - loss: 0.0347 - accuracy: 0.9919 - val_loss: 0.0411 - val_accuracy: 0.9773\n"
     ]
    }
   ],
   "source": [
    "# history = model.fit(train_generator, epochs = epochs,validation_data = validation_generator,callbacks = callback)\n",
    "history = model.fit(train_generator, epochs = epochs,validation_data = validation_generator)"
   ]
  },
  {
   "cell_type": "code",
   "execution_count": 59,
   "id": "a752063d",
   "metadata": {},
   "outputs": [
    {
     "data": {
      "image/png": "[encoded data removed]",
      "text/plain": [
       "<Figure size 864x288 with 2 Axes>"
      ]
     },
     "metadata": {
      "needs_background": "light"
     },
     "output_type": "display_data"
    }
   ],
   "source": [
    "fig , ax = plt.subplots(1,2)\n",
    "train_acc = history.history['accuracy']\n",
    "train_loss = history.history['loss']\n",
    "fig.set_size_inches(12,4)\n",
    "\n",
    "ax[0].plot(history.history['accuracy'])\n",
    "ax[0].plot(history.history['val_accuracy'])\n",
    "ax[0].set_title('Training Accuracy vs Validation Accuracy')\n",
    "ax[0].set_ylabel('Accuracy')\n",
    "ax[0].set_xlabel('Epoch')\n",
    "ax[0].legend(['Train', 'Validation'], loc='upper left')\n",
    "\n",
    "ax[1].plot(history.history['loss'])\n",
    "ax[1].plot(history.history['val_loss'])\n",
    "ax[1].set_title('Training Loss vs Validation Loss')\n",
    "ax[1].set_ylabel('Loss')\n",
    "ax[1].set_xlabel('Epoch')\n",
    "ax[1].legend(['Train', 'Validation'], loc='upper left')\n",
    "\n",
    "plt.show()"
   ]
  },
  {
   "cell_type": "code",
   "execution_count": null,
   "id": "1635e117",
   "metadata": {},
   "outputs": [],
   "source": []
  },
  {
   "cell_type": "code",
   "execution_count": null,
   "id": "e7a16911",
   "metadata": {},
   "outputs": [],
   "source": []
  }
 ],
 "metadata": {
  "kernelspec": {
   "display_name": "Python 3",
   "language": "python",
   "name": "python3"
  },
  "language_info": {
   "codemirror_mode": {
    "name": "ipython",
    "version": 3
   },
   "file_extension": ".py",
   "mimetype": "text/x-python",
   "name": "python",
   "nbconvert_exporter": "python",
   "pygments_lexer": "ipython3",
   "version": "3.9.5"
  }
 },
 "nbformat": 4,
 "nbformat_minor": 5
}
